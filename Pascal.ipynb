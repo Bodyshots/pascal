{
 "cells": [
  {
   "cell_type": "markdown",
   "id": "86961ea7",
   "metadata": {},
   "source": [
    "# Table of contents\n",
    "1. [Introduction](#introduction)\n",
    "2. [Pascal's Triangle <a name=\"Pascal&#8217s Triangle\"></a>](#pascal-s-triangle--a-name--pascal--8217s-triangle----a-)\n",
    "  * [List Representation](#list-representation)\n",
    "      * [Computing a Specific Row](#computing-a-specific-row)\n",
    "      * [Representing our Triangle as a String](#representing-our-triangle-as-a-string)\n",
    "      * [Completed List Representation](#completed-list-representation)\n",
    "  * [Binary Tree Representation](#binary-tree-representation)\n",
    "  * [Additional Observations and Functions](#additional-observations-and-functions)\n",
    "3. [Pascal's Pyramid <a name=\"Pascal&#8217s Pyramid\"></a>](#pascal-s-pyramid)"
   ]
  },
  {
   "cell_type": "markdown",
   "id": "1975ff22-510e-446f-b6b0-974e31b331b2",
   "metadata": {
    "tags": []
   },
   "source": [
    "# Introduction <a name=\"introduction\"></a>\n",
    "Pascal's Triangle is renowned for its use in mathematics, particularly in the expansion of binomials. To study its quirks, as well as to connect the realms of computer science and mathematics, I created two representations of this shape in Python. \n",
    "\n",
    "Afterwards, with a little more investigation, I implemented Pascal's Pyramid: a three dimensional representation of the coefficients in a trinomial expansion. In other words, the 3D version of Pascal's Triangle.\n",
    "\n",
    "Thus, I present my findings and how I devised algorithms to represent Pascal's shapes.\n",
    "# Pascal's Triangle <a name=\"pascal-s-triangle--a-name--pascal--8217s-triangle----a-\"></a>\n",
    "<br><figure><img src='https://wikimedia.org/api/rest_v1/media/math/render/svg/23050fcb53d6083d9e42043bebf2863fa9746043' alt='Pascal&#8217s Triangle'/> <figcaption><center><i>Figure 1. Pascal's Triangle, featuring its first eight rows (<a href=\"https://en.wikipedia.org/wiki/Pascal%27s_triangle\">image from Wikipedia</a>).</i></center></figcaption> </figure>\n",
    "\n",
    "First, we must familiarize ourselves with some basic knowledge of Pascal's Triangle. Starting from 0, the triangle has n rows and k columns, where $n, k \\in \\mathbb{N}\\cup\\{0\\}$. To illustrate, in Figure 1, the triangle's 7th **row** is the sequence \"1 7 21 35 35 21 7 1.\" Furthermore, the triangle's 2nd **column** is the sequence \"1 3 6 10 15 21.\"\n",
    "\n",
    "What's unique about Pascal's Triangle is its recursive nature. That is, every entry in Pascal's Triangle is the sum of the two numbers directly above it. So, for instance, the number 20 is the summation of 10 + 10. We can, thereby, create a formula to compute the Nth entry in Pascal's Triangle. This is known as Pascal's Rule (see Figure 2).\n",
    "\n",
    "<br><figure><img src='https://wikimedia.org/api/rest_v1/media/math/render/svg/f0c7a976228485b80eaa6a71af20a4fcd02e520c' alt='Pascal&#8217s Triangle'/> <figcaption><center><i>Figure 2. Pascal's Rule. (<a href=\"https://en.wikipedia.org/wiki/Pascal%27s_rule\">image from Wikipedia</a>).</i></center></figcaption> </figure>\n",
    "\n",
    "Pascal's Triangle has two implementations: A list and a binary tree respresentation. We'll go through them in mentioned order.\n",
    "## List Representation <a name=\"list-representation\"></a>\n",
    "Representing Pascal's Triangle as a list is quite easy. If we imagine each row as a list, then we can represent Pascal's Triangle as a single list of nested lists."
   ]
  },
  {
   "cell_type": "code",
   "execution_count": 35,
   "id": "948c6b86-b96e-48f7-a9fa-3643bf12e1ad",
   "metadata": {},
   "outputs": [],
   "source": [
    "class PascalTriangle:\n",
    "    def __init__(self, height):\n",
    "        self.height = height\n",
    "        self.rows = [] # A list with multiple lists representing rows\n",
    "        \n",
    "    def get_row(self, row_num):\n",
    "        pass # to be implementeed\n",
    "    \n",
    "    def __str__(self):\n",
    "        pass # to be implemented"
   ]
  },
  {
   "cell_type": "markdown",
   "id": "c5262fea",
   "metadata": {},
   "source": [
    "### Computing a specific row <a name=\"computing-a-specific-row\"></a>\n",
    "Let's first note a couple of observations about Pascal's Triangle:\n",
    "1. The triangle's 0th and 1st rows are \"[1]\" and \"[1, 1]\" respectively\n",
    "2. Its first and last columns are only made up of 1s\n",
    "3. The triangle is symmetric. That is, one half of the triangle is the same as the other half\n",
    "4. Even-numbered rows have an odd number of entries. Odd-numbered rows have an even number of entries\n",
    "\n",
    "Equipped with these observations, I present the following algorithm:"
   ]
  },
  {
   "cell_type": "code",
   "execution_count": 36,
   "id": "c8624f0b",
   "metadata": {},
   "outputs": [],
   "source": [
    "def get_row(self, row_num):\n",
    "    if row_num < 0 or row_num > self.height:\n",
    "        return -1\n",
    "    if row_num == 0:\n",
    "        return [1]\n",
    "    if row_num == 1:\n",
    "        return [1, 1] # will always be [1, x, 1], where x is a certain # of elems\n",
    "\n",
    "    # rows >= 2\n",
    "    curr_row = [1]\n",
    "    prev_row = self.get_row(row_num - 1)\n",
    "    for width in range(1, (row_num + 2) // 2):\n",
    "        curr_row.append(prev_row[width - 1] + prev_row[width])\n",
    "\n",
    "    # since pascal's triangle is symmetric, just copy curr_row reversed\n",
    "    # note: depending on the triangle's row number, we may have two middle elements\n",
    "    # so, we check parity of row_num:\n",
    "    # even: no duplicate mid elem\n",
    "    # odd: duplicate mid elem\n",
    "    if row_num % 2 == 0: # checks parity\n",
    "        curr_row.extend(curr_row[::-1][1:]) # don't dup the mid elem\n",
    "    else:\n",
    "        curr_row.extend(curr_row[::-1][:]) # dup the mid elem\n",
    "    return curr_row"
   ]
  },
  {
   "cell_type": "markdown",
   "id": "7e729acd",
   "metadata": {},
   "source": [
    "Naturally, computing a certain row in Pascal's Triangle will be recursive. So, the three if statements at the beginning are based on observation 1 and are the function's base cases. Afterwards, we create curr_row to be the row we want to calculate. \n",
    "\n",
    "The function's recursive case involves first appending \"1\" to curr_row (based on observation 2) and getting the direct previous row to our current row number. From there, we use Pascal's Rule to compute half of curr_row.\n",
    "\n",
    "Now, we use the symmetric nature of Pascal's triangle to our advantage. Because the triangle is symmetric, we can just copy curr_row's values in a reversed order. So, with taking careful note of the our current row number's parity, we are able to return our completed row without any additional calculations.\n",
    "\n",
    "With this function completed, we can completely finish the instantiation logic of our triangle:"
   ]
  },
  {
   "cell_type": "code",
   "execution_count": 37,
   "id": "76d4c60b",
   "metadata": {},
   "outputs": [],
   "source": [
    "class PascalTriangle:\n",
    "    def __init__(self, height):\n",
    "        self.height = height\n",
    "        self.rows = [self.get_row(i) for i in range(height)]\n",
    "\n",
    "    def get_row(self, row_num):\n",
    "        if row_num < 0 or row_num > self.height:\n",
    "            return -1\n",
    "        if row_num == 0:\n",
    "            return [1]\n",
    "        if row_num == 1:\n",
    "            return [1, 1] # will always be [1, x, 1], where x is a certain # of elems\n",
    "\n",
    "        # rows >= 2\n",
    "        curr_row = [1]\n",
    "        prev_row = self.get_row(row_num - 1)\n",
    "        for width in range(1, (row_num + 2) // 2):\n",
    "            curr_row.append(prev_row[width - 1] + prev_row[width])\n",
    "\n",
    "        # since pascal's triangle is symmetric, just copy curr_row reversed\n",
    "        # note: depending on the triangle's row number, we may have two middle elements\n",
    "        # so, we check parity of row_num:\n",
    "        # even: no duplicate mid elem\n",
    "        # odd: duplicate mid elem\n",
    "        if row_num % 2 == 0: # checks parity\n",
    "            curr_row.extend(curr_row[::-1][1:]) # don't dup the mid elem\n",
    "        else:\n",
    "            curr_row.extend(curr_row[::-1][:]) # dup the mid elem\n",
    "        return curr_row\n",
    "    \n",
    "    def __str__(self):\n",
    "        pass # to be implemented"
   ]
  },
  {
   "cell_type": "markdown",
   "id": "6df6256b",
   "metadata": {},
   "source": [
    "### Representing our Triangle as a String <a name=\"representing-our-triangle-as-a-string\"></a>\n",
    "By adapting to the user's terminal size and centering each of our rows, we're able to finally see the fruits of our labour. "
   ]
  },
  {
   "cell_type": "code",
   "execution_count": 38,
   "id": "c95f4bbb",
   "metadata": {},
   "outputs": [],
   "source": [
    "def __str__(self):\n",
    "    # Meru Prastaara ver (left-aligned)\n",
    "    # result_str = \"[\"\n",
    "    # for i in self.rows: result_str += str(i) + \"\\n\"\n",
    "    # return result_str.rstrip(\"\\n\") + \"]\"\n",
    "\n",
    "    # Pascal Triangle ver\n",
    "    from os import get_terminal_size\n",
    "    term_width = get_terminal_size().columns\n",
    "    result_str = \"\"\n",
    "    for i in self.rows: result_str += str(i).center(term_width) + \"\\n\"\n",
    "    return result_str.rstrip(\"\\n\")"
   ]
  },
  {
   "cell_type": "markdown",
   "id": "3140fd06",
   "metadata": {},
   "source": [
    "### Completed List Representation <a name=\"completed-list-representation\"></a>\n",
    "Below is our completed PascalTriangle class. "
   ]
  },
  {
   "cell_type": "code",
   "execution_count": 39,
   "id": "d0ac6bdc",
   "metadata": {},
   "outputs": [
    {
     "name": "stdout",
     "output_type": "stream",
     "text": [
      "                                                                                                                        [1]                                                                                                                        \n",
      "                                                                                                                       [1, 1]                                                                                                                      \n",
      "                                                                                                                     [1, 2, 1]                                                                                                                     \n",
      "                                                                                                                    [1, 3, 3, 1]                                                                                                                   \n",
      "                                                                                                                  [1, 4, 6, 4, 1]                                                                                                                  \n",
      "                                                                                                                [1, 5, 10, 10, 5, 1]                                                                                                               \n",
      "                                                                                                              [1, 6, 15, 20, 15, 6, 1]                                                                                                             \n",
      "                                                                                                            [1, 7, 21, 35, 35, 21, 7, 1]                                                                                                           \n",
      "                                                                                                          [1, 8, 28, 56, 70, 56, 28, 8, 1]                                                                                                         \n",
      "                                                                                                       [1, 9, 36, 84, 126, 126, 84, 36, 9, 1]                                                                                                      \n"
     ]
    }
   ],
   "source": [
    "class PascalTriangle:\n",
    "    def __init__(self, height):\n",
    "        self.height = height\n",
    "        self.rows = [self.get_row(i) for i in range(height)]\n",
    "\n",
    "    def get_row(self, row_num):\n",
    "        if row_num < 0 or row_num > self.height:\n",
    "            return -1\n",
    "        if row_num == 0:\n",
    "            return [1]\n",
    "        if row_num == 1:\n",
    "            return [1, 1] # will always be [1, x, 1], where x is a certain # of elems\n",
    "        \n",
    "        # rows >= 2\n",
    "        curr_row = [1]\n",
    "        prev_row = self.get_row(row_num - 1)\n",
    "        for width in range(1, (row_num + 2) // 2):\n",
    "            curr_row.append(prev_row[width - 1] + prev_row[width])\n",
    "\n",
    "        # since pascal's triangle is symmetric, just copy curr_row reversed\n",
    "        # note: depending on the triangle's row number, we may have two middle elements\n",
    "        # so, we check parity of row_num:\n",
    "        # even: no duplicate mid elem\n",
    "        # odd: duplicate mid elem\n",
    "        if row_num % 2 == 0: # checks parity\n",
    "            curr_row.extend(curr_row[::-1][1:]) # don't dup the mid elem\n",
    "        else:\n",
    "            curr_row.extend(curr_row[::-1][:]) # dup the mid elem\n",
    "        return curr_row\n",
    "    \n",
    "    def __str__(self):\n",
    "        # Meru Prastaara ver (left-aligned)\n",
    "#         result_str = \"\"\n",
    "#         for i in self.rows: result_str += str(i) + \"\\n\"\n",
    "#         return result_str.rstrip(\"\\n\")\n",
    "\n",
    "        # Pascal Triangle ver - may not display properly in Jupyter. If so, use the Meru Prastaara ver instead.\n",
    "        from os import get_terminal_size\n",
    "        term_width = get_terminal_size().columns\n",
    "        result_str = \"\"\n",
    "        for i in self.rows: result_str += str(i).center(term_width) + \"\\n\"\n",
    "        return result_str.rstrip(\"\\n\")\n",
    "    \n",
    "if __name__ == \"__main__\":\n",
    "    test = PascalTriangle(10)\n",
    "    print(test)"
   ]
  },
  {
   "cell_type": "markdown",
   "id": "53e0b726",
   "metadata": {},
   "source": [
    "## Binary Tree Representation <a name=\"binary-tree-representation\"></a>\n",
    "to be added"
   ]
  },
  {
   "cell_type": "markdown",
   "id": "45ce4c28",
   "metadata": {},
   "source": [
    "## Additional Observations and Functions <a name=\"additional-observations-and-functions\"></a>\n",
    "to be added"
   ]
  },
  {
   "cell_type": "markdown",
   "id": "58fede1b",
   "metadata": {},
   "source": [
    "# Pascal's Pyramid <a name=\"pascal-s-pyramid\"></a>\n",
    "to be added"
   ]
  },
  {
   "cell_type": "code",
   "execution_count": null,
   "id": "0898c868",
   "metadata": {},
   "outputs": [],
   "source": []
  }
 ],
 "metadata": {
  "kernelspec": {
   "display_name": "Python 3 (ipykernel)",
   "language": "python",
   "name": "python3"
  },
  "language_info": {
   "codemirror_mode": {
    "name": "ipython",
    "version": 3
   },
   "file_extension": ".py",
   "mimetype": "text/x-python",
   "name": "python",
   "nbconvert_exporter": "python",
   "pygments_lexer": "ipython3",
   "version": "3.8.6"
  }
 },
 "nbformat": 4,
 "nbformat_minor": 5
}
